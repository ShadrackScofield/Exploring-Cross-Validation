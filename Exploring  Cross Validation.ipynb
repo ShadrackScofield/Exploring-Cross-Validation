{
 "cells": [
  {
   "cell_type": "markdown",
   "metadata": {},
   "source": [
    "# Import dependencies"
   ]
  },
  {
   "cell_type": "code",
   "execution_count": 1,
   "metadata": {},
   "outputs": [],
   "source": [
    "import numpy as np\n",
    "import pandas as pd\n",
    "from sklearn.model_selection import  train_test_split\n",
    "from sklearn.model_selection import cross_val_score\n",
    "from sklearn.model_selection import RandomizedSearchCV\n",
    "from sklearn.model_selection import GridSearchCV\n",
    "from sklearn.metrics import accuracy_score"
   ]
  },
  {
   "cell_type": "markdown",
   "metadata": {},
   "source": [
    "import the models"
   ]
  },
  {
   "cell_type": "code",
   "execution_count": 2,
   "metadata": {},
   "outputs": [],
   "source": [
    "from sklearn.linear_model import LogisticRegression\n",
    "from sklearn.svm import SVC\n",
    "from sklearn.neighbors import KNeighborsClassifier\n",
    "from sklearn.ensemble import RandomForestClassifier"
   ]
  },
  {
   "cell_type": "markdown",
   "metadata": {},
   "source": [
    "Loading the dataset"
   ]
  },
  {
   "cell_type": "code",
   "execution_count": 3,
   "metadata": {},
   "outputs": [
    {
     "data": {
      "text/html": [
       "<div>\n",
       "<style scoped>\n",
       "    .dataframe tbody tr th:only-of-type {\n",
       "        vertical-align: middle;\n",
       "    }\n",
       "\n",
       "    .dataframe tbody tr th {\n",
       "        vertical-align: top;\n",
       "    }\n",
       "\n",
       "    .dataframe thead th {\n",
       "        text-align: right;\n",
       "    }\n",
       "</style>\n",
       "<table border=\"1\" class=\"dataframe\">\n",
       "  <thead>\n",
       "    <tr style=\"text-align: right;\">\n",
       "      <th></th>\n",
       "      <th>AVGHEARTBEATSPERMIN</th>\n",
       "      <th>PALPITATIONSPERDAY</th>\n",
       "      <th>CHOLESTEROL</th>\n",
       "      <th>BMI</th>\n",
       "      <th>AGE</th>\n",
       "      <th>SEX</th>\n",
       "      <th>FAMILYHISTORY</th>\n",
       "      <th>SMOKERLAST5YRS</th>\n",
       "      <th>EXERCISEMINPERWEEK</th>\n",
       "      <th>HEARTFAILURE</th>\n",
       "    </tr>\n",
       "  </thead>\n",
       "  <tbody>\n",
       "    <tr>\n",
       "      <th>0</th>\n",
       "      <td>93</td>\n",
       "      <td>22</td>\n",
       "      <td>163</td>\n",
       "      <td>25</td>\n",
       "      <td>49</td>\n",
       "      <td>F</td>\n",
       "      <td>N</td>\n",
       "      <td>N</td>\n",
       "      <td>110</td>\n",
       "      <td>N</td>\n",
       "    </tr>\n",
       "    <tr>\n",
       "      <th>1</th>\n",
       "      <td>108</td>\n",
       "      <td>22</td>\n",
       "      <td>181</td>\n",
       "      <td>24</td>\n",
       "      <td>32</td>\n",
       "      <td>F</td>\n",
       "      <td>N</td>\n",
       "      <td>N</td>\n",
       "      <td>192</td>\n",
       "      <td>N</td>\n",
       "    </tr>\n",
       "    <tr>\n",
       "      <th>2</th>\n",
       "      <td>86</td>\n",
       "      <td>0</td>\n",
       "      <td>239</td>\n",
       "      <td>20</td>\n",
       "      <td>60</td>\n",
       "      <td>F</td>\n",
       "      <td>N</td>\n",
       "      <td>N</td>\n",
       "      <td>121</td>\n",
       "      <td>N</td>\n",
       "    </tr>\n",
       "    <tr>\n",
       "      <th>3</th>\n",
       "      <td>80</td>\n",
       "      <td>36</td>\n",
       "      <td>164</td>\n",
       "      <td>31</td>\n",
       "      <td>45</td>\n",
       "      <td>F</td>\n",
       "      <td>Y</td>\n",
       "      <td>N</td>\n",
       "      <td>141</td>\n",
       "      <td>Y</td>\n",
       "    </tr>\n",
       "    <tr>\n",
       "      <th>4</th>\n",
       "      <td>66</td>\n",
       "      <td>36</td>\n",
       "      <td>185</td>\n",
       "      <td>23</td>\n",
       "      <td>39</td>\n",
       "      <td>F</td>\n",
       "      <td>N</td>\n",
       "      <td>N</td>\n",
       "      <td>63</td>\n",
       "      <td>N</td>\n",
       "    </tr>\n",
       "    <tr>\n",
       "      <th>...</th>\n",
       "      <td>...</td>\n",
       "      <td>...</td>\n",
       "      <td>...</td>\n",
       "      <td>...</td>\n",
       "      <td>...</td>\n",
       "      <td>...</td>\n",
       "      <td>...</td>\n",
       "      <td>...</td>\n",
       "      <td>...</td>\n",
       "      <td>...</td>\n",
       "    </tr>\n",
       "    <tr>\n",
       "      <th>10795</th>\n",
       "      <td>122</td>\n",
       "      <td>27</td>\n",
       "      <td>203</td>\n",
       "      <td>30</td>\n",
       "      <td>31</td>\n",
       "      <td>F</td>\n",
       "      <td>N</td>\n",
       "      <td>N</td>\n",
       "      <td>246</td>\n",
       "      <td>N</td>\n",
       "    </tr>\n",
       "    <tr>\n",
       "      <th>10796</th>\n",
       "      <td>67</td>\n",
       "      <td>15</td>\n",
       "      <td>186</td>\n",
       "      <td>25</td>\n",
       "      <td>54</td>\n",
       "      <td>F</td>\n",
       "      <td>N</td>\n",
       "      <td>N</td>\n",
       "      <td>189</td>\n",
       "      <td>N</td>\n",
       "    </tr>\n",
       "    <tr>\n",
       "      <th>10797</th>\n",
       "      <td>103</td>\n",
       "      <td>6</td>\n",
       "      <td>211</td>\n",
       "      <td>20</td>\n",
       "      <td>40</td>\n",
       "      <td>F</td>\n",
       "      <td>N</td>\n",
       "      <td>N</td>\n",
       "      <td>205</td>\n",
       "      <td>N</td>\n",
       "    </tr>\n",
       "    <tr>\n",
       "      <th>10798</th>\n",
       "      <td>99</td>\n",
       "      <td>30</td>\n",
       "      <td>152</td>\n",
       "      <td>27</td>\n",
       "      <td>32</td>\n",
       "      <td>M</td>\n",
       "      <td>N</td>\n",
       "      <td>N</td>\n",
       "      <td>211</td>\n",
       "      <td>N</td>\n",
       "    </tr>\n",
       "    <tr>\n",
       "      <th>10799</th>\n",
       "      <td>50</td>\n",
       "      <td>31</td>\n",
       "      <td>232</td>\n",
       "      <td>26</td>\n",
       "      <td>40</td>\n",
       "      <td>F</td>\n",
       "      <td>N</td>\n",
       "      <td>N</td>\n",
       "      <td>54</td>\n",
       "      <td>N</td>\n",
       "    </tr>\n",
       "  </tbody>\n",
       "</table>\n",
       "<p>10800 rows × 10 columns</p>\n",
       "</div>"
      ],
      "text/plain": [
       "       AVGHEARTBEATSPERMIN  PALPITATIONSPERDAY  CHOLESTEROL  BMI  AGE SEX  \\\n",
       "0                       93                  22          163   25   49   F   \n",
       "1                      108                  22          181   24   32   F   \n",
       "2                       86                   0          239   20   60   F   \n",
       "3                       80                  36          164   31   45   F   \n",
       "4                       66                  36          185   23   39   F   \n",
       "...                    ...                 ...          ...  ...  ...  ..   \n",
       "10795                  122                  27          203   30   31   F   \n",
       "10796                   67                  15          186   25   54   F   \n",
       "10797                  103                   6          211   20   40   F   \n",
       "10798                   99                  30          152   27   32   M   \n",
       "10799                   50                  31          232   26   40   F   \n",
       "\n",
       "      FAMILYHISTORY SMOKERLAST5YRS  EXERCISEMINPERWEEK HEARTFAILURE  \n",
       "0                 N              N                 110            N  \n",
       "1                 N              N                 192            N  \n",
       "2                 N              N                 121            N  \n",
       "3                 Y              N                 141            Y  \n",
       "4                 N              N                  63            N  \n",
       "...             ...            ...                 ...          ...  \n",
       "10795             N              N                 246            N  \n",
       "10796             N              N                 189            N  \n",
       "10797             N              N                 205            N  \n",
       "10798             N              N                 211            N  \n",
       "10799             N              N                  54            N  \n",
       "\n",
       "[10800 rows x 10 columns]"
      ]
     },
     "execution_count": 3,
     "metadata": {},
     "output_type": "execute_result"
    }
   ],
   "source": [
    "heart_failure_data = pd.read_csv('E:\\dev\\ML\\IBM\\Data science\\Data\\Predicting heart failure\\patientdata.csv')\n",
    "heart_failure_data"
   ]
  },
  {
   "cell_type": "code",
   "execution_count": 4,
   "metadata": {},
   "outputs": [
    {
     "name": "stdout",
     "output_type": "stream",
     "text": [
      "<class 'pandas.core.frame.DataFrame'>\n",
      "RangeIndex: 10800 entries, 0 to 10799\n",
      "Data columns (total 10 columns):\n",
      " #   Column               Non-Null Count  Dtype \n",
      "---  ------               --------------  ----- \n",
      " 0   AVGHEARTBEATSPERMIN  10800 non-null  int64 \n",
      " 1   PALPITATIONSPERDAY   10800 non-null  int64 \n",
      " 2   CHOLESTEROL          10800 non-null  int64 \n",
      " 3   BMI                  10800 non-null  int64 \n",
      " 4   AGE                  10800 non-null  int64 \n",
      " 5   SEX                  10800 non-null  object\n",
      " 6   FAMILYHISTORY        10800 non-null  object\n",
      " 7   SMOKERLAST5YRS       10800 non-null  object\n",
      " 8   EXERCISEMINPERWEEK   10800 non-null  int64 \n",
      " 9   HEARTFAILURE         10800 non-null  object\n",
      "dtypes: int64(6), object(4)\n",
      "memory usage: 843.9+ KB\n"
     ]
    }
   ],
   "source": [
    "heart_failure_data.info()"
   ]
  },
  {
   "cell_type": "code",
   "execution_count": 5,
   "metadata": {},
   "outputs": [
    {
     "data": {
      "text/plain": [
       "N    9012\n",
       "Y    1788\n",
       "Name: HEARTFAILURE, dtype: int64"
      ]
     },
     "execution_count": 5,
     "metadata": {},
     "output_type": "execute_result"
    }
   ],
   "source": [
    "heart_failure_data['HEARTFAILURE'].value_counts()"
   ]
  },
  {
   "cell_type": "code",
   "execution_count": 6,
   "metadata": {},
   "outputs": [
    {
     "data": {
      "text/html": [
       "<div>\n",
       "<style scoped>\n",
       "    .dataframe tbody tr th:only-of-type {\n",
       "        vertical-align: middle;\n",
       "    }\n",
       "\n",
       "    .dataframe tbody tr th {\n",
       "        vertical-align: top;\n",
       "    }\n",
       "\n",
       "    .dataframe thead th {\n",
       "        text-align: right;\n",
       "    }\n",
       "</style>\n",
       "<table border=\"1\" class=\"dataframe\">\n",
       "  <thead>\n",
       "    <tr style=\"text-align: right;\">\n",
       "      <th></th>\n",
       "      <th>AVGHEARTBEATSPERMIN</th>\n",
       "      <th>PALPITATIONSPERDAY</th>\n",
       "      <th>CHOLESTEROL</th>\n",
       "      <th>BMI</th>\n",
       "      <th>AGE</th>\n",
       "      <th>SEX</th>\n",
       "      <th>FAMILYHISTORY</th>\n",
       "      <th>SMOKERLAST5YRS</th>\n",
       "      <th>EXERCISEMINPERWEEK</th>\n",
       "      <th>HEARTFAILURE</th>\n",
       "    </tr>\n",
       "  </thead>\n",
       "  <tbody>\n",
       "    <tr>\n",
       "      <th>0</th>\n",
       "      <td>93</td>\n",
       "      <td>22</td>\n",
       "      <td>163</td>\n",
       "      <td>25</td>\n",
       "      <td>49</td>\n",
       "      <td>0</td>\n",
       "      <td>0</td>\n",
       "      <td>0</td>\n",
       "      <td>110</td>\n",
       "      <td>N</td>\n",
       "    </tr>\n",
       "    <tr>\n",
       "      <th>1</th>\n",
       "      <td>108</td>\n",
       "      <td>22</td>\n",
       "      <td>181</td>\n",
       "      <td>24</td>\n",
       "      <td>32</td>\n",
       "      <td>0</td>\n",
       "      <td>0</td>\n",
       "      <td>0</td>\n",
       "      <td>192</td>\n",
       "      <td>N</td>\n",
       "    </tr>\n",
       "    <tr>\n",
       "      <th>2</th>\n",
       "      <td>86</td>\n",
       "      <td>0</td>\n",
       "      <td>239</td>\n",
       "      <td>20</td>\n",
       "      <td>60</td>\n",
       "      <td>0</td>\n",
       "      <td>0</td>\n",
       "      <td>0</td>\n",
       "      <td>121</td>\n",
       "      <td>N</td>\n",
       "    </tr>\n",
       "    <tr>\n",
       "      <th>3</th>\n",
       "      <td>80</td>\n",
       "      <td>36</td>\n",
       "      <td>164</td>\n",
       "      <td>31</td>\n",
       "      <td>45</td>\n",
       "      <td>0</td>\n",
       "      <td>1</td>\n",
       "      <td>0</td>\n",
       "      <td>141</td>\n",
       "      <td>Y</td>\n",
       "    </tr>\n",
       "    <tr>\n",
       "      <th>4</th>\n",
       "      <td>66</td>\n",
       "      <td>36</td>\n",
       "      <td>185</td>\n",
       "      <td>23</td>\n",
       "      <td>39</td>\n",
       "      <td>0</td>\n",
       "      <td>0</td>\n",
       "      <td>0</td>\n",
       "      <td>63</td>\n",
       "      <td>N</td>\n",
       "    </tr>\n",
       "  </tbody>\n",
       "</table>\n",
       "</div>"
      ],
      "text/plain": [
       "   AVGHEARTBEATSPERMIN  PALPITATIONSPERDAY  CHOLESTEROL  BMI  AGE  SEX  \\\n",
       "0                   93                  22          163   25   49    0   \n",
       "1                  108                  22          181   24   32    0   \n",
       "2                   86                   0          239   20   60    0   \n",
       "3                   80                  36          164   31   45    0   \n",
       "4                   66                  36          185   23   39    0   \n",
       "\n",
       "   FAMILYHISTORY  SMOKERLAST5YRS  EXERCISEMINPERWEEK HEARTFAILURE  \n",
       "0              0               0                 110            N  \n",
       "1              0               0                 192            N  \n",
       "2              0               0                 121            N  \n",
       "3              1               0                 141            Y  \n",
       "4              0               0                  63            N  "
      ]
     },
     "execution_count": 6,
     "metadata": {},
     "output_type": "execute_result"
    }
   ],
   "source": [
    "heart_failure_data['SEX'].replace({'M':1, 'F':0}, inplace=True)\n",
    "heart_failure_data['FAMILYHISTORY'].replace({'Y':1, 'N':0}, inplace=True)\n",
    "heart_failure_data['SMOKERLAST5YRS'].replace({'Y':1, 'N':0}, inplace=True)                                        \n",
    "heart_failure_data.head()"
   ]
  },
  {
   "cell_type": "code",
   "execution_count": 7,
   "metadata": {},
   "outputs": [],
   "source": [
    "X = heart_failure_data.drop(columns = 'HEARTFAILURE', axis = 1)\n",
    "Y = heart_failure_data['HEARTFAILURE']"
   ]
  },
  {
   "cell_type": "code",
   "execution_count": 8,
   "metadata": {
    "scrolled": true
   },
   "outputs": [],
   "source": [
    "#convert X and Y into np array\n",
    "X = np.asarray(X)\n",
    "Y = np.asarray(Y)"
   ]
  },
  {
   "cell_type": "code",
   "execution_count": 9,
   "metadata": {},
   "outputs": [
    {
     "data": {
      "text/plain": [
       "array([[ 93,  22, 163, ...,   0,   0, 110],\n",
       "       [108,  22, 181, ...,   0,   0, 192],\n",
       "       [ 86,   0, 239, ...,   0,   0, 121],\n",
       "       ...,\n",
       "       [103,   6, 211, ...,   0,   0, 205],\n",
       "       [ 99,  30, 152, ...,   0,   0, 211],\n",
       "       [ 50,  31, 232, ...,   0,   0,  54]], dtype=int64)"
      ]
     },
     "execution_count": 9,
     "metadata": {},
     "output_type": "execute_result"
    }
   ],
   "source": [
    "X"
   ]
  },
  {
   "cell_type": "code",
   "execution_count": 10,
   "metadata": {},
   "outputs": [
    {
     "data": {
      "text/plain": [
       "array(['N', 'N', 'N', ..., 'N', 'N', 'N'], dtype=object)"
      ]
     },
     "execution_count": 10,
     "metadata": {},
     "output_type": "execute_result"
    }
   ],
   "source": [
    "Y"
   ]
  },
  {
   "cell_type": "code",
   "execution_count": 11,
   "metadata": {},
   "outputs": [],
   "source": [
    "X_train, X_test, Y_train, Y_test = train_test_split(X, Y, test_size=0.2, random_state=3)"
   ]
  },
  {
   "cell_type": "code",
   "execution_count": 12,
   "metadata": {},
   "outputs": [],
   "source": [
    "models = [LogisticRegression(max_iter=1000),\n",
    "         SVC(kernel = 'linear'),\n",
    "         KNeighborsClassifier(),\n",
    "         RandomForestClassifier()\n",
    "         ]"
   ]
  },
  {
   "cell_type": "code",
   "execution_count": 13,
   "metadata": {},
   "outputs": [],
   "source": [
    "def compare_models_with_train_test_split():\n",
    "    for model in models:\n",
    "        model.fit(X_train, Y_train)\n",
    "        test_data_predict = model.predict(X_test)\n",
    "        accuracy = accuracy_score(Y_test, test_data_predict)\n",
    "        print('Accuracy score of ', model , '=', accuracy)"
   ]
  },
  {
   "cell_type": "code",
   "execution_count": 14,
   "metadata": {},
   "outputs": [
    {
     "name": "stdout",
     "output_type": "stream",
     "text": [
      "Accuracy score of  LogisticRegression(max_iter=1000) = 0.8583333333333333\n",
      "Accuracy score of  SVC(kernel='linear') = 0.8388888888888889\n",
      "Accuracy score of  KNeighborsClassifier() = 0.8296296296296296\n",
      "Accuracy score of  RandomForestClassifier() = 0.8768518518518519\n"
     ]
    }
   ],
   "source": [
    "compare_models_with_train_test_split()"
   ]
  },
  {
   "cell_type": "code",
   "execution_count": 15,
   "metadata": {},
   "outputs": [],
   "source": [
    "def compare_models_with_cross_validation():\n",
    "    for model in models:\n",
    "        cv_score = cross_val_score(model, X, Y, cv=5)\n",
    "        mean_accuracy = sum(cv_score)/ len(cv_score)\n",
    "        mean_accuracy = mean_accuracy * 100\n",
    "        mean_accuracy = round(mean_accuracy, 2)\n",
    "        print('Accuracy for', model, '=', cv_score)\n",
    "        print('Mean % accuracy for ', model, '=', mean_accuracy)\n",
    "        print('---------------------------------------------------------')"
   ]
  },
  {
   "cell_type": "code",
   "execution_count": 16,
   "metadata": {},
   "outputs": [
    {
     "name": "stdout",
     "output_type": "stream",
     "text": [
      "Accuracy for LogisticRegression(max_iter=1000) = [0.77962963 0.88611111 0.8787037  0.87268519 0.85046296]\n",
      "Mean % accuracy for  LogisticRegression(max_iter=1000) = 85.35\n",
      "---------------------------------------------------------\n",
      "Accuracy for SVC(kernel='linear') = [0.77777778 0.83472222 0.83425926 0.83425926 0.83425926]\n",
      "Mean % accuracy for  SVC(kernel='linear') = 82.31\n",
      "---------------------------------------------------------\n",
      "Accuracy for KNeighborsClassifier() = [0.79953704 0.83888889 0.83194444 0.83194444 0.83287037]\n",
      "Mean % accuracy for  KNeighborsClassifier() = 82.7\n",
      "---------------------------------------------------------\n",
      "Accuracy for RandomForestClassifier() = [0.7625     0.90972222 0.9        0.89675926 0.86574074]\n",
      "Mean % accuracy for  RandomForestClassifier() = 86.69\n",
      "---------------------------------------------------------\n"
     ]
    }
   ],
   "source": [
    "compare_models_with_cross_validation()"
   ]
  }
 ],
 "metadata": {
  "kernelspec": {
   "display_name": "Python 3",
   "language": "python",
   "name": "python3"
  },
  "language_info": {
   "codemirror_mode": {
    "name": "ipython",
    "version": 3
   },
   "file_extension": ".py",
   "mimetype": "text/x-python",
   "name": "python",
   "nbconvert_exporter": "python",
   "pygments_lexer": "ipython3",
   "version": "3.8.3"
  }
 },
 "nbformat": 4,
 "nbformat_minor": 4
}
